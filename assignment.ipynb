{
 "cells": [
  {
   "cell_type": "code",
   "execution_count": 33,
   "metadata": {},
   "outputs": [],
   "source": [
    "import pandas as pd\n",
    "import numpy as np\n",
    "import matplotlib as plt"
   ]
  },
  {
   "cell_type": "markdown",
   "metadata": {},
   "source": [
    "Import datasets"
   ]
  },
  {
   "cell_type": "code",
   "execution_count": 34,
   "metadata": {},
   "outputs": [],
   "source": [
    "d13 = pd.read_stata('./data/2013', convert_categoricals=False)\n",
    "d14 = pd.read_stata('./data/2014', convert_categoricals=False)\n",
    "d15 = pd.read_stata('./data/2015', convert_categoricals=False)\n",
    "d16 = pd.read_stata('./data/2016', convert_categoricals=False)\n",
    "d17 = pd.read_stata('./data/2017', convert_categoricals=False)\n",
    "d18 = pd.read_stata('./data/2018', convert_categoricals=False)\n",
    "d19 = pd.read_stata('./data/2019', convert_categoricals=False)\n",
    "d20 = pd.read_stata('./data/2020', convert_categoricals=False)\n",
    "d21 = pd.read_stata('./data/2021', convert_categoricals=False)\n",
    "d22 = pd.read_stata('./data/2022', convert_categoricals=False)"
   ]
  },
  {
   "cell_type": "markdown",
   "metadata": {},
   "source": [
    "Recode pre-2017 LFSSTAT variables and rename EDUC90 to EDUC"
   ]
  },
  {
   "cell_type": "code",
   "execution_count": 84,
   "metadata": {},
   "outputs": [],
   "source": [
    "pre = pd.concat([d13, d14, d15, d16])\n",
    "\n",
    "def recode(LFSSTAT):\n",
    "\tif LFSSTAT == 4:\n",
    "\t\treturn 3\n",
    "\telif LFSSTAT == 5:\n",
    "\t\treturn 3\n",
    "\telif LFSSTAT == 6:\n",
    "\t\treturn 4\n",
    "\telse:\n",
    "\t\treturn LFSSTAT\n",
    "\n",
    "pre.rename(columns={'EDUC90':'EDUC'}, inplace=True)\n",
    "\n",
    "pre['LFSSTAT'] = pre['LFSSTAT'].apply(recode)"
   ]
  },
  {
   "cell_type": "markdown",
   "metadata": {},
   "source": [
    "Append the rest of the data to the master"
   ]
  },
  {
   "cell_type": "code",
   "execution_count": 85,
   "metadata": {},
   "outputs": [],
   "source": [
    "post = pd.concat([d17, d18, d19, d20, d21, d22])\n",
    "master = pd.concat([pre, post])"
   ]
  },
  {
   "cell_type": "markdown",
   "metadata": {},
   "source": [
    "Keep only prime age - 20 to 64 & Non-students"
   ]
  },
  {
   "cell_type": "code",
   "execution_count": 86,
   "metadata": {},
   "outputs": [],
   "source": [
    "master = master[(master['AGE_12'] >= 2) & (master['AGE_12'] <= 10) & (master['SCHOOLN'] == 1)]"
   ]
  },
  {
   "cell_type": "markdown",
   "metadata": {},
   "source": [
    "    QUESTION 1"
   ]
  },
  {
   "cell_type": "markdown",
   "metadata": {},
   "source": [
    "        1a) Educational attainment"
   ]
  },
  {
   "cell_type": "markdown",
   "metadata": {},
   "source": [
    "Generating new 'edu' variable and populating it"
   ]
  },
  {
   "cell_type": "code",
   "execution_count": 87,
   "metadata": {},
   "outputs": [],
   "source": [
    "master['edu'] = np.nan"
   ]
  },
  {
   "cell_type": "code",
   "execution_count": 88,
   "metadata": {},
   "outputs": [],
   "source": [
    "def recodeEDU(EDUC):\n",
    "    if EDUC <= 1:\n",
    "        return 1\n",
    "    elif (EDUC == 2 or EDUC == 3):\n",
    "        return 2\n",
    "    elif EDUC == 4:\n",
    "        return 3\n",
    "    elif EDUC == 5:\n",
    "        return 4\n",
    "    elif EDUC == 6:\n",
    "        return 5\n",
    "    else:\n",
    "        return EDUC\n",
    "\n",
    "master['edu'] = master['EDUC'].apply(recodeEDU)"
   ]
  },
  {
   "cell_type": "code",
   "execution_count": 94,
   "metadata": {},
   "outputs": [
    {
     "data": {
      "text/plain": [
       "1     69700\n",
       "2    184382\n",
       "3    260257\n",
       "4    119043\n",
       "5     51562\n",
       "Name: edu, dtype: int64"
      ]
     },
     "execution_count": 94,
     "metadata": {},
     "output_type": "execute_result"
    }
   ],
   "source": [
    "master['edu'].value_counts(normalize=True).sort_index()"
   ]
  },
  {
   "cell_type": "markdown",
   "metadata": {},
   "source": [
    "    1b) Educational attainment over time"
   ]
  }
 ],
 "metadata": {
  "kernelspec": {
   "display_name": "Python 3.9.5 64-bit",
   "language": "python",
   "name": "python3"
  },
  "language_info": {
   "codemirror_mode": {
    "name": "ipython",
    "version": 3
   },
   "file_extension": ".py",
   "mimetype": "text/x-python",
   "name": "python",
   "nbconvert_exporter": "python",
   "pygments_lexer": "ipython3",
   "version": "3.9.5"
  },
  "orig_nbformat": 4,
  "vscode": {
   "interpreter": {
    "hash": "aee8b7b246df8f9039afb4144a1f6fd8d2ca17a180786b69acc140d282b71a49"
   }
  }
 },
 "nbformat": 4,
 "nbformat_minor": 2
}
