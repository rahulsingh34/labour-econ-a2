{
 "cells": [
  {
   "cell_type": "code",
   "execution_count": 2,
   "metadata": {},
   "outputs": [],
   "source": [
    "import pandas as pd\n",
    "import numpy as np\n",
    "import matplotlib as plt"
   ]
  },
  {
   "cell_type": "markdown",
   "metadata": {},
   "source": [
    "Import datasets"
   ]
  },
  {
   "cell_type": "code",
   "execution_count": 3,
   "metadata": {},
   "outputs": [],
   "source": [
    "d13 = pd.read_stata('./data/2013', convert_categoricals=False)\n",
    "d14 = pd.read_stata('./data/2014', convert_categoricals=False)\n",
    "d15 = pd.read_stata('./data/2015', convert_categoricals=False)\n",
    "d16 = pd.read_stata('./data/2016', convert_categoricals=False)\n",
    "d17 = pd.read_stata('./data/2017', convert_categoricals=False)\n",
    "d18 = pd.read_stata('./data/2018', convert_categoricals=False)\n",
    "d19 = pd.read_stata('./data/2019', convert_categoricals=False)\n",
    "d20 = pd.read_stata('./data/2020', convert_categoricals=False)\n",
    "d21 = pd.read_stata('./data/2021', convert_categoricals=False)\n",
    "d22 = pd.read_stata('./data/2022', convert_categoricals=False)"
   ]
  },
  {
   "cell_type": "markdown",
   "metadata": {},
   "source": [
    "Recode pre-2017 LFSSTAT variables and rename EDUC90 to EDUC"
   ]
  },
  {
   "cell_type": "code",
   "execution_count": 4,
   "metadata": {},
   "outputs": [],
   "source": [
    "pre = pd.concat([d13, d14, d15, d16])\n",
    "\n",
    "def recode(LFSSTAT):\n",
    "\tif LFSSTAT == 4:\n",
    "\t\treturn 3\n",
    "\telif LFSSTAT == 5:\n",
    "\t\treturn 3\n",
    "\telif LFSSTAT == 6:\n",
    "\t\treturn 4\n",
    "\telse:\n",
    "\t\treturn LFSSTAT\n",
    "\n",
    "pre.rename(columns={'EDUC90':'EDUC'}, inplace=True)\n",
    "\n",
    "pre['LFSSTAT'] = pre['LFSSTAT'].apply(recode)"
   ]
  },
  {
   "cell_type": "markdown",
   "metadata": {},
   "source": [
    "Append the rest of the data to the master"
   ]
  },
  {
   "cell_type": "code",
   "execution_count": 5,
   "metadata": {},
   "outputs": [],
   "source": [
    "post = pd.concat([d17, d18, d19, d20, d21, d22])\n",
    "master = pd.concat([pre, post])"
   ]
  },
  {
   "cell_type": "markdown",
   "metadata": {},
   "source": [
    "Keep only prime age - 20 to 64 & Non-students"
   ]
  },
  {
   "cell_type": "code",
   "execution_count": 6,
   "metadata": {},
   "outputs": [],
   "source": [
    "master = master[(master['AGE_12'] >= 2) & (master['AGE_12'] <= 10) & (master['SCHOOLN'] == 1)]"
   ]
  },
  {
   "cell_type": "markdown",
   "metadata": {},
   "source": [
    "    QUESTION 1"
   ]
  },
  {
   "cell_type": "markdown",
   "metadata": {},
   "source": [
    "        1a) Educational attainment"
   ]
  },
  {
   "cell_type": "markdown",
   "metadata": {},
   "source": [
    "Generating new 'edu' variable and populating it"
   ]
  },
  {
   "cell_type": "code",
   "execution_count": 7,
   "metadata": {},
   "outputs": [],
   "source": [
    "master['edu'] = np.nan"
   ]
  },
  {
   "cell_type": "code",
   "execution_count": 8,
   "metadata": {},
   "outputs": [],
   "source": [
    "def recodeEDU(EDUC):\n",
    "    if EDUC <= 1:\n",
    "        return 1\n",
    "    elif (EDUC == 2 or EDUC == 3):\n",
    "        return 2\n",
    "    elif EDUC == 4:\n",
    "        return 3\n",
    "    elif EDUC == 5:\n",
    "        return 4\n",
    "    elif EDUC == 6:\n",
    "        return 5\n",
    "    else:\n",
    "        return EDUC\n",
    "\n",
    "master['edu'] = master['EDUC'].apply(recodeEDU)"
   ]
  },
  {
   "cell_type": "code",
   "execution_count": 9,
   "metadata": {},
   "outputs": [
    {
     "data": {
      "text/plain": [
       "1    0.101760\n",
       "2    0.269193\n",
       "3    0.379968\n",
       "4    0.173800\n",
       "5    0.075279\n",
       "Name: edu, dtype: float64"
      ]
     },
     "execution_count": 9,
     "metadata": {},
     "output_type": "execute_result"
    }
   ],
   "source": [
    "master['edu'].value_counts(normalize=True).sort_index()"
   ]
  },
  {
   "cell_type": "markdown",
   "metadata": {},
   "source": [
    "    1b) Educational attainment over time"
   ]
  },
  {
   "cell_type": "code",
   "execution_count": 10,
   "metadata": {},
   "outputs": [
    {
     "data": {
      "text/html": [
       "<div>\n",
       "<style scoped>\n",
       "    .dataframe tbody tr th:only-of-type {\n",
       "        vertical-align: middle;\n",
       "    }\n",
       "\n",
       "    .dataframe tbody tr th {\n",
       "        vertical-align: top;\n",
       "    }\n",
       "\n",
       "    .dataframe thead th {\n",
       "        text-align: right;\n",
       "    }\n",
       "</style>\n",
       "<table border=\"1\" class=\"dataframe\">\n",
       "  <thead>\n",
       "    <tr style=\"text-align: right;\">\n",
       "      <th>edu</th>\n",
       "      <th>1</th>\n",
       "      <th>2</th>\n",
       "      <th>3</th>\n",
       "      <th>4</th>\n",
       "      <th>5</th>\n",
       "    </tr>\n",
       "    <tr>\n",
       "      <th>SURVYEAR</th>\n",
       "      <th></th>\n",
       "      <th></th>\n",
       "      <th></th>\n",
       "      <th></th>\n",
       "      <th></th>\n",
       "    </tr>\n",
       "  </thead>\n",
       "  <tbody>\n",
       "    <tr>\n",
       "      <th>2013</th>\n",
       "      <td>0.120462</td>\n",
       "      <td>0.288373</td>\n",
       "      <td>0.372295</td>\n",
       "      <td>0.154795</td>\n",
       "      <td>0.064075</td>\n",
       "    </tr>\n",
       "    <tr>\n",
       "      <th>2014</th>\n",
       "      <td>0.118577</td>\n",
       "      <td>0.289459</td>\n",
       "      <td>0.371570</td>\n",
       "      <td>0.155208</td>\n",
       "      <td>0.065185</td>\n",
       "    </tr>\n",
       "    <tr>\n",
       "      <th>2015</th>\n",
       "      <td>0.112379</td>\n",
       "      <td>0.277708</td>\n",
       "      <td>0.380284</td>\n",
       "      <td>0.163051</td>\n",
       "      <td>0.066579</td>\n",
       "    </tr>\n",
       "    <tr>\n",
       "      <th>2016</th>\n",
       "      <td>0.110637</td>\n",
       "      <td>0.274003</td>\n",
       "      <td>0.379812</td>\n",
       "      <td>0.164896</td>\n",
       "      <td>0.070652</td>\n",
       "    </tr>\n",
       "    <tr>\n",
       "      <th>2017</th>\n",
       "      <td>0.103271</td>\n",
       "      <td>0.275455</td>\n",
       "      <td>0.382741</td>\n",
       "      <td>0.168699</td>\n",
       "      <td>0.069833</td>\n",
       "    </tr>\n",
       "    <tr>\n",
       "      <th>2018</th>\n",
       "      <td>0.102338</td>\n",
       "      <td>0.269140</td>\n",
       "      <td>0.383913</td>\n",
       "      <td>0.170180</td>\n",
       "      <td>0.074429</td>\n",
       "    </tr>\n",
       "    <tr>\n",
       "      <th>2019</th>\n",
       "      <td>0.097701</td>\n",
       "      <td>0.262525</td>\n",
       "      <td>0.383998</td>\n",
       "      <td>0.177943</td>\n",
       "      <td>0.077833</td>\n",
       "    </tr>\n",
       "    <tr>\n",
       "      <th>2020</th>\n",
       "      <td>0.087580</td>\n",
       "      <td>0.256509</td>\n",
       "      <td>0.389631</td>\n",
       "      <td>0.183827</td>\n",
       "      <td>0.082453</td>\n",
       "    </tr>\n",
       "    <tr>\n",
       "      <th>2021</th>\n",
       "      <td>0.081836</td>\n",
       "      <td>0.256831</td>\n",
       "      <td>0.384399</td>\n",
       "      <td>0.193931</td>\n",
       "      <td>0.083002</td>\n",
       "    </tr>\n",
       "    <tr>\n",
       "      <th>2022</th>\n",
       "      <td>0.075881</td>\n",
       "      <td>0.236700</td>\n",
       "      <td>0.374382</td>\n",
       "      <td>0.211471</td>\n",
       "      <td>0.101565</td>\n",
       "    </tr>\n",
       "  </tbody>\n",
       "</table>\n",
       "</div>"
      ],
      "text/plain": [
       "edu              1         2         3         4         5\n",
       "SURVYEAR                                                  \n",
       "2013      0.120462  0.288373  0.372295  0.154795  0.064075\n",
       "2014      0.118577  0.289459  0.371570  0.155208  0.065185\n",
       "2015      0.112379  0.277708  0.380284  0.163051  0.066579\n",
       "2016      0.110637  0.274003  0.379812  0.164896  0.070652\n",
       "2017      0.103271  0.275455  0.382741  0.168699  0.069833\n",
       "2018      0.102338  0.269140  0.383913  0.170180  0.074429\n",
       "2019      0.097701  0.262525  0.383998  0.177943  0.077833\n",
       "2020      0.087580  0.256509  0.389631  0.183827  0.082453\n",
       "2021      0.081836  0.256831  0.384399  0.193931  0.083002\n",
       "2022      0.075881  0.236700  0.374382  0.211471  0.101565"
      ]
     },
     "execution_count": 10,
     "metadata": {},
     "output_type": "execute_result"
    }
   ],
   "source": [
    "educByYear = pd.crosstab(master['SURVYEAR'], master['edu'], normalize='index')\n",
    "educByYear"
   ]
  },
  {
   "cell_type": "code",
   "execution_count": 18,
   "metadata": {},
   "outputs": [
    {
     "data": {
      "text/plain": [
       "<matplotlib.legend.Legend at 0x1214476a0>"
      ]
     },
     "execution_count": 18,
     "metadata": {},
     "output_type": "execute_result"
    },
    {
     "data": {
      "image/png": "[encoded data removed]",
      "text/plain": [
       "<Figure size 432x288 with 1 Axes>"
      ]
     },
     "metadata": {
      "needs_background": "light"
     },
     "output_type": "display_data"
    }
   ],
   "source": [
    "educPlot = educByYear.plot.bar(title=\"Level of Education Percentage by Year\")\n",
    "educPlot.set_xlabel('Year')\n",
    "educPlot.set_ylabel('Percentage')\n",
    "educPlot.legend(loc='center left', bbox_to_anchor=(1.0, 0.5))"
   ]
  },
  {
   "cell_type": "markdown",
   "metadata": {},
   "source": [
    "    1c) Educational attainment by gender "
   ]
  },
  {
   "cell_type": "code",
   "execution_count": 20,
   "metadata": {},
   "outputs": [],
   "source": [
    "males = master[master['SEX'] == 1]\n",
    "females = master[master['SEX'] == 2]"
   ]
  },
  {
   "cell_type": "code",
   "execution_count": 21,
   "metadata": {},
   "outputs": [
    {
     "data": {
      "text/html": [
       "<div>\n",
       "<style scoped>\n",
       "    .dataframe tbody tr th:only-of-type {\n",
       "        vertical-align: middle;\n",
       "    }\n",
       "\n",
       "    .dataframe tbody tr th {\n",
       "        vertical-align: top;\n",
       "    }\n",
       "\n",
       "    .dataframe thead th {\n",
       "        text-align: right;\n",
       "    }\n",
       "</style>\n",
       "<table border=\"1\" class=\"dataframe\">\n",
       "  <thead>\n",
       "    <tr style=\"text-align: right;\">\n",
       "      <th>edu</th>\n",
       "      <th>1</th>\n",
       "      <th>2</th>\n",
       "      <th>3</th>\n",
       "      <th>4</th>\n",
       "      <th>5</th>\n",
       "    </tr>\n",
       "    <tr>\n",
       "      <th>SURVYEAR</th>\n",
       "      <th></th>\n",
       "      <th></th>\n",
       "      <th></th>\n",
       "      <th></th>\n",
       "      <th></th>\n",
       "    </tr>\n",
       "  </thead>\n",
       "  <tbody>\n",
       "    <tr>\n",
       "      <th>2013</th>\n",
       "      <td>0.137426</td>\n",
       "      <td>0.297233</td>\n",
       "      <td>0.368775</td>\n",
       "      <td>0.132494</td>\n",
       "      <td>0.064073</td>\n",
       "    </tr>\n",
       "    <tr>\n",
       "      <th>2014</th>\n",
       "      <td>0.135281</td>\n",
       "      <td>0.300783</td>\n",
       "      <td>0.366732</td>\n",
       "      <td>0.133016</td>\n",
       "      <td>0.064188</td>\n",
       "    </tr>\n",
       "    <tr>\n",
       "      <th>2015</th>\n",
       "      <td>0.128299</td>\n",
       "      <td>0.288796</td>\n",
       "      <td>0.378480</td>\n",
       "      <td>0.140987</td>\n",
       "      <td>0.063438</td>\n",
       "    </tr>\n",
       "    <tr>\n",
       "      <th>2016</th>\n",
       "      <td>0.128109</td>\n",
       "      <td>0.284394</td>\n",
       "      <td>0.379877</td>\n",
       "      <td>0.140315</td>\n",
       "      <td>0.067305</td>\n",
       "    </tr>\n",
       "    <tr>\n",
       "      <th>2017</th>\n",
       "      <td>0.122038</td>\n",
       "      <td>0.285500</td>\n",
       "      <td>0.384829</td>\n",
       "      <td>0.143415</td>\n",
       "      <td>0.064218</td>\n",
       "    </tr>\n",
       "    <tr>\n",
       "      <th>2018</th>\n",
       "      <td>0.119600</td>\n",
       "      <td>0.282170</td>\n",
       "      <td>0.383729</td>\n",
       "      <td>0.145537</td>\n",
       "      <td>0.068965</td>\n",
       "    </tr>\n",
       "    <tr>\n",
       "      <th>2019</th>\n",
       "      <td>0.115308</td>\n",
       "      <td>0.275743</td>\n",
       "      <td>0.386400</td>\n",
       "      <td>0.151281</td>\n",
       "      <td>0.071269</td>\n",
       "    </tr>\n",
       "    <tr>\n",
       "      <th>2020</th>\n",
       "      <td>0.104550</td>\n",
       "      <td>0.271199</td>\n",
       "      <td>0.393331</td>\n",
       "      <td>0.155301</td>\n",
       "      <td>0.075619</td>\n",
       "    </tr>\n",
       "    <tr>\n",
       "      <th>2021</th>\n",
       "      <td>0.098497</td>\n",
       "      <td>0.273821</td>\n",
       "      <td>0.387027</td>\n",
       "      <td>0.165614</td>\n",
       "      <td>0.075042</td>\n",
       "    </tr>\n",
       "    <tr>\n",
       "      <th>2022</th>\n",
       "      <td>0.090618</td>\n",
       "      <td>0.260735</td>\n",
       "      <td>0.371137</td>\n",
       "      <td>0.184747</td>\n",
       "      <td>0.092763</td>\n",
       "    </tr>\n",
       "  </tbody>\n",
       "</table>\n",
       "</div>"
      ],
      "text/plain": [
       "edu              1         2         3         4         5\n",
       "SURVYEAR                                                  \n",
       "2013      0.137426  0.297233  0.368775  0.132494  0.064073\n",
       "2014      0.135281  0.300783  0.366732  0.133016  0.064188\n",
       "2015      0.128299  0.288796  0.378480  0.140987  0.063438\n",
       "2016      0.128109  0.284394  0.379877  0.140315  0.067305\n",
       "2017      0.122038  0.285500  0.384829  0.143415  0.064218\n",
       "2018      0.119600  0.282170  0.383729  0.145537  0.068965\n",
       "2019      0.115308  0.275743  0.386400  0.151281  0.071269\n",
       "2020      0.104550  0.271199  0.393331  0.155301  0.075619\n",
       "2021      0.098497  0.273821  0.387027  0.165614  0.075042\n",
       "2022      0.090618  0.260735  0.371137  0.184747  0.092763"
      ]
     },
     "execution_count": 21,
     "metadata": {},
     "output_type": "execute_result"
    }
   ],
   "source": [
    "pd.crosstab(males['SURVYEAR'], males['edu'], normalize='index')"
   ]
  },
  {
   "cell_type": "code",
   "execution_count": 22,
   "metadata": {},
   "outputs": [
    {
     "data": {
      "text/html": [
       "<div>\n",
       "<style scoped>\n",
       "    .dataframe tbody tr th:only-of-type {\n",
       "        vertical-align: middle;\n",
       "    }\n",
       "\n",
       "    .dataframe tbody tr th {\n",
       "        vertical-align: top;\n",
       "    }\n",
       "\n",
       "    .dataframe thead th {\n",
       "        text-align: right;\n",
       "    }\n",
       "</style>\n",
       "<table border=\"1\" class=\"dataframe\">\n",
       "  <thead>\n",
       "    <tr style=\"text-align: right;\">\n",
       "      <th>edu</th>\n",
       "      <th>1</th>\n",
       "      <th>2</th>\n",
       "      <th>3</th>\n",
       "      <th>4</th>\n",
       "      <th>5</th>\n",
       "    </tr>\n",
       "    <tr>\n",
       "      <th>SURVYEAR</th>\n",
       "      <th></th>\n",
       "      <th></th>\n",
       "      <th></th>\n",
       "      <th></th>\n",
       "      <th></th>\n",
       "    </tr>\n",
       "  </thead>\n",
       "  <tbody>\n",
       "    <tr>\n",
       "      <th>2013</th>\n",
       "      <td>0.104045</td>\n",
       "      <td>0.279800</td>\n",
       "      <td>0.375701</td>\n",
       "      <td>0.176375</td>\n",
       "      <td>0.064078</td>\n",
       "    </tr>\n",
       "    <tr>\n",
       "      <th>2014</th>\n",
       "      <td>0.102385</td>\n",
       "      <td>0.278482</td>\n",
       "      <td>0.376260</td>\n",
       "      <td>0.176721</td>\n",
       "      <td>0.066152</td>\n",
       "    </tr>\n",
       "    <tr>\n",
       "      <th>2015</th>\n",
       "      <td>0.096862</td>\n",
       "      <td>0.266901</td>\n",
       "      <td>0.382043</td>\n",
       "      <td>0.184555</td>\n",
       "      <td>0.069640</td>\n",
       "    </tr>\n",
       "    <tr>\n",
       "      <th>2016</th>\n",
       "      <td>0.093708</td>\n",
       "      <td>0.263935</td>\n",
       "      <td>0.379750</td>\n",
       "      <td>0.188714</td>\n",
       "      <td>0.073894</td>\n",
       "    </tr>\n",
       "    <tr>\n",
       "      <th>2017</th>\n",
       "      <td>0.085077</td>\n",
       "      <td>0.265717</td>\n",
       "      <td>0.380717</td>\n",
       "      <td>0.193214</td>\n",
       "      <td>0.075276</td>\n",
       "    </tr>\n",
       "    <tr>\n",
       "      <th>2018</th>\n",
       "      <td>0.085581</td>\n",
       "      <td>0.256491</td>\n",
       "      <td>0.384092</td>\n",
       "      <td>0.194103</td>\n",
       "      <td>0.079734</td>\n",
       "    </tr>\n",
       "    <tr>\n",
       "      <th>2019</th>\n",
       "      <td>0.080581</td>\n",
       "      <td>0.249671</td>\n",
       "      <td>0.381663</td>\n",
       "      <td>0.203870</td>\n",
       "      <td>0.084216</td>\n",
       "    </tr>\n",
       "    <tr>\n",
       "      <th>2020</th>\n",
       "      <td>0.071086</td>\n",
       "      <td>0.242229</td>\n",
       "      <td>0.386035</td>\n",
       "      <td>0.211555</td>\n",
       "      <td>0.089095</td>\n",
       "    </tr>\n",
       "    <tr>\n",
       "      <th>2021</th>\n",
       "      <td>0.065520</td>\n",
       "      <td>0.240193</td>\n",
       "      <td>0.381826</td>\n",
       "      <td>0.221663</td>\n",
       "      <td>0.090798</td>\n",
       "    </tr>\n",
       "    <tr>\n",
       "      <th>2022</th>\n",
       "      <td>0.061497</td>\n",
       "      <td>0.213240</td>\n",
       "      <td>0.377550</td>\n",
       "      <td>0.237556</td>\n",
       "      <td>0.110156</td>\n",
       "    </tr>\n",
       "  </tbody>\n",
       "</table>\n",
       "</div>"
      ],
      "text/plain": [
       "edu              1         2         3         4         5\n",
       "SURVYEAR                                                  \n",
       "2013      0.104045  0.279800  0.375701  0.176375  0.064078\n",
       "2014      0.102385  0.278482  0.376260  0.176721  0.066152\n",
       "2015      0.096862  0.266901  0.382043  0.184555  0.069640\n",
       "2016      0.093708  0.263935  0.379750  0.188714  0.073894\n",
       "2017      0.085077  0.265717  0.380717  0.193214  0.075276\n",
       "2018      0.085581  0.256491  0.384092  0.194103  0.079734\n",
       "2019      0.080581  0.249671  0.381663  0.203870  0.084216\n",
       "2020      0.071086  0.242229  0.386035  0.211555  0.089095\n",
       "2021      0.065520  0.240193  0.381826  0.221663  0.090798\n",
       "2022      0.061497  0.213240  0.377550  0.237556  0.110156"
      ]
     },
     "execution_count": 22,
     "metadata": {},
     "output_type": "execute_result"
    }
   ],
   "source": [
    "pd.crosstab(females['SURVYEAR'], females['edu'], normalize='index')"
   ]
  }
 ],
 "metadata": {
  "kernelspec": {
   "display_name": "Python 3.9.5 64-bit",
   "language": "python",
   "name": "python3"
  },
  "language_info": {
   "codemirror_mode": {
    "name": "ipython",
    "version": 3
   },
   "file_extension": ".py",
   "mimetype": "text/x-python",
   "name": "python",
   "nbconvert_exporter": "python",
   "pygments_lexer": "ipython3",
   "version": "3.9.5"
  },
  "orig_nbformat": 4,
  "vscode": {
   "interpreter": {
    "hash": "aee8b7b246df8f9039afb4144a1f6fd8d2ca17a180786b69acc140d282b71a49"
   }
  }
 },
 "nbformat": 4,
 "nbformat_minor": 2
}
