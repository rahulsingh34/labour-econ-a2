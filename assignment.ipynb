{
 "cells": [
  {
   "cell_type": "code",
   "execution_count": null,
   "metadata": {},
   "outputs": [],
   "source": [
    "import pandas as pd\n",
    "import matplotlib as plt"
   ]
  },
  {
   "cell_type": "markdown",
   "metadata": {},
   "source": [
    "Import datasets"
   ]
  },
  {
   "cell_type": "code",
   "execution_count": null,
   "metadata": {},
   "outputs": [],
   "source": [
    "d13 = pd.read_stata('./data/2013', convert_categoricals=False)\n",
    "d14 = pd.read_stata('./data/2014', convert_categoricals=False)\n",
    "d15 = pd.read_stata('./data/2015', convert_categoricals=False)\n",
    "d16 = pd.read_stata('./data/2016', convert_categoricals=False)\n",
    "d17 = pd.read_stata('./data/2017', convert_categoricals=False)\n",
    "d18 = pd.read_stata('./data/2018', convert_categoricals=False)\n",
    "d19 = pd.read_stata('./data/2019', convert_categoricals=False)\n",
    "d20 = pd.read_stata('./data/2020', convert_categoricals=False)\n",
    "d21 = pd.read_stata('./data/2021', convert_categoricals=False)\n",
    "d22 = pd.read_stata('./data/2022', convert_categoricals=False)"
   ]
  },
  {
   "cell_type": "markdown",
   "metadata": {},
   "source": [
    "Recode pre-2017 LFSSTAT variables"
   ]
  },
  {
   "cell_type": "code",
   "execution_count": null,
   "metadata": {},
   "outputs": [],
   "source": [
    "pre = pd.concat([d13, d14, d15, d16])\n",
    "\n",
    "def recode(LFSSTAT):\n",
    "\tif LFSSTAT == 4:\n",
    "\t\treturn 3\n",
    "\telif LFSSTAT == 5:\n",
    "\t\treturn 3\n",
    "\telif LFSSTAT == 6:\n",
    "\t\treturn 4\n",
    "\telse:\n",
    "\t\treturn LFSSTAT\n",
    "\n",
    "pre['LFSSTAT'] = pre['LFSSTAT'].apply(recode)"
   ]
  },
  {
   "cell_type": "markdown",
   "metadata": {},
   "source": [
    "Append the rest of the data to the master"
   ]
  },
  {
   "cell_type": "code",
   "execution_count": null,
   "metadata": {},
   "outputs": [],
   "source": [
    "post = pd.concat([d17, d18, d19, d20, d21, d22])\n",
    "master = pd.concat([pre, post])"
   ]
  }
 ],
 "metadata": {
  "language_info": {
   "name": "python"
  },
  "orig_nbformat": 4
 },
 "nbformat": 4,
 "nbformat_minor": 2
}
