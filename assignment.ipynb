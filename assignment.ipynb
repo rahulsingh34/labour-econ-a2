{
 "cells": [
  {
   "cell_type": "code",
   "execution_count": 33,
   "metadata": {},
   "outputs": [],
   "source": [
    "import pandas as pd\n",
    "import numpy as np\n",
    "import matplotlib as plt"
   ]
  },
  {
   "cell_type": "markdown",
   "metadata": {},
   "source": [
    "Import datasets"
   ]
  },
  {
   "cell_type": "code",
   "execution_count": 34,
   "metadata": {},
   "outputs": [],
   "source": [
    "d13 = pd.read_stata('./data/2013', convert_categoricals=False)\n",
    "d14 = pd.read_stata('./data/2014', convert_categoricals=False)\n",
    "d15 = pd.read_stata('./data/2015', convert_categoricals=False)\n",
    "d16 = pd.read_stata('./data/2016', convert_categoricals=False)\n",
    "d17 = pd.read_stata('./data/2017', convert_categoricals=False)\n",
    "d18 = pd.read_stata('./data/2018', convert_categoricals=False)\n",
    "d19 = pd.read_stata('./data/2019', convert_categoricals=False)\n",
    "d20 = pd.read_stata('./data/2020', convert_categoricals=False)\n",
    "d21 = pd.read_stata('./data/2021', convert_categoricals=False)\n",
    "d22 = pd.read_stata('./data/2022', convert_categoricals=False)"
   ]
  },
  {
   "cell_type": "markdown",
   "metadata": {},
   "source": [
    "Recode pre-2017 LFSSTAT variables and rename EDUC90 to EDUC"
   ]
  },
  {
   "cell_type": "code",
   "execution_count": 84,
   "metadata": {},
   "outputs": [],
   "source": [
    "pre = pd.concat([d13, d14, d15, d16])\n",
    "\n",
    "def recode(LFSSTAT):\n",
    "\tif LFSSTAT == 4:\n",
    "\t\treturn 3\n",
    "\telif LFSSTAT == 5:\n",
    "\t\treturn 3\n",
    "\telif LFSSTAT == 6:\n",
    "\t\treturn 4\n",
    "\telse:\n",
    "\t\treturn LFSSTAT\n",
    "\n",
    "pre.rename(columns={'EDUC90':'EDUC'}, inplace=True)\n",
    "\n",
    "pre['LFSSTAT'] = pre['LFSSTAT'].apply(recode)"
   ]
  },
  {
   "cell_type": "markdown",
   "metadata": {},
   "source": [
    "Append the rest of the data to the master"
   ]
  },
  {
   "cell_type": "code",
   "execution_count": 85,
   "metadata": {},
   "outputs": [],
   "source": [
    "post = pd.concat([d17, d18, d19, d20, d21, d22])\n",
    "master = pd.concat([pre, post])"
   ]
  },
  {
   "cell_type": "markdown",
   "metadata": {},
   "source": [
    "Keep only prime age - 20 to 64 & Non-students"
   ]
  },
  {
   "cell_type": "code",
   "execution_count": 86,
   "metadata": {},
   "outputs": [],
   "source": [
    "master = master[(master['AGE_12'] >= 2) & (master['AGE_12'] <= 10) & (master['SCHOOLN'] == 1)]"
   ]
  },
  {
   "cell_type": "markdown",
   "metadata": {},
   "source": [
    "    QUESTION 1"
   ]
  },
  {
   "cell_type": "markdown",
   "metadata": {},
   "source": [
    "        1a) Educational attainment"
   ]
  },
  {
   "cell_type": "markdown",
   "metadata": {},
   "source": [
    "Generating new 'edu' variable and populating it"
   ]
  },
  {
   "cell_type": "code",
   "execution_count": 87,
   "metadata": {},
   "outputs": [],
   "source": [
    "master['edu'] = np.nan"
   ]
  },
  {
   "cell_type": "code",
   "execution_count": 88,
   "metadata": {},
   "outputs": [],
   "source": [
    "def recodeEDU(EDUC):\n",
    "    if EDUC <= 1:\n",
    "        return 1\n",
    "    elif (EDUC == 2 or EDUC == 3):\n",
    "        return 2\n",
    "    elif EDUC == 4:\n",
    "        return 3\n",
    "    elif EDUC == 5:\n",
    "        return 4\n",
    "    elif EDUC == 6:\n",
    "        return 5\n",
    "    else:\n",
    "        return EDUC\n",
    "\n",
    "master['edu'] = master['EDUC'].apply(recodeEDU)"
   ]
  },
  {
   "cell_type": "code",
   "execution_count": 95,
   "metadata": {},
   "outputs": [
    {
     "data": {
      "text/plain": [
       "1    0.101760\n",
       "2    0.269193\n",
       "3    0.379968\n",
       "4    0.173800\n",
       "5    0.075279\n",
       "Name: edu, dtype: float64"
      ]
     },
     "execution_count": 95,
     "metadata": {},
     "output_type": "execute_result"
    }
   ],
   "source": [
    "master['edu'].value_counts(normalize=True).sort_index()"
   ]
  },
  {
   "cell_type": "markdown",
   "metadata": {},
   "source": [
    "    1b) Educational attainment over time"
   ]
  },
  {
   "cell_type": "code",
   "execution_count": 102,
   "metadata": {},
   "outputs": [
    {
     "data": {
      "text/html": [
       "<div>\n",
       "<style scoped>\n",
       "    .dataframe tbody tr th:only-of-type {\n",
       "        vertical-align: middle;\n",
       "    }\n",
       "\n",
       "    .dataframe tbody tr th {\n",
       "        vertical-align: top;\n",
       "    }\n",
       "\n",
       "    .dataframe thead th {\n",
       "        text-align: right;\n",
       "    }\n",
       "</style>\n",
       "<table border=\"1\" class=\"dataframe\">\n",
       "  <thead>\n",
       "    <tr style=\"text-align: right;\">\n",
       "      <th>edu</th>\n",
       "      <th>1</th>\n",
       "      <th>2</th>\n",
       "      <th>3</th>\n",
       "      <th>4</th>\n",
       "      <th>5</th>\n",
       "    </tr>\n",
       "    <tr>\n",
       "      <th>SURVYEAR</th>\n",
       "      <th></th>\n",
       "      <th></th>\n",
       "      <th></th>\n",
       "      <th></th>\n",
       "      <th></th>\n",
       "    </tr>\n",
       "  </thead>\n",
       "  <tbody>\n",
       "    <tr>\n",
       "      <th>2013</th>\n",
       "      <td>0.120462</td>\n",
       "      <td>0.288373</td>\n",
       "      <td>0.372295</td>\n",
       "      <td>0.154795</td>\n",
       "      <td>0.064075</td>\n",
       "    </tr>\n",
       "    <tr>\n",
       "      <th>2014</th>\n",
       "      <td>0.118577</td>\n",
       "      <td>0.289459</td>\n",
       "      <td>0.371570</td>\n",
       "      <td>0.155208</td>\n",
       "      <td>0.065185</td>\n",
       "    </tr>\n",
       "    <tr>\n",
       "      <th>2015</th>\n",
       "      <td>0.112379</td>\n",
       "      <td>0.277708</td>\n",
       "      <td>0.380284</td>\n",
       "      <td>0.163051</td>\n",
       "      <td>0.066579</td>\n",
       "    </tr>\n",
       "    <tr>\n",
       "      <th>2016</th>\n",
       "      <td>0.110637</td>\n",
       "      <td>0.274003</td>\n",
       "      <td>0.379812</td>\n",
       "      <td>0.164896</td>\n",
       "      <td>0.070652</td>\n",
       "    </tr>\n",
       "    <tr>\n",
       "      <th>2017</th>\n",
       "      <td>0.103271</td>\n",
       "      <td>0.275455</td>\n",
       "      <td>0.382741</td>\n",
       "      <td>0.168699</td>\n",
       "      <td>0.069833</td>\n",
       "    </tr>\n",
       "    <tr>\n",
       "      <th>2018</th>\n",
       "      <td>0.102338</td>\n",
       "      <td>0.269140</td>\n",
       "      <td>0.383913</td>\n",
       "      <td>0.170180</td>\n",
       "      <td>0.074429</td>\n",
       "    </tr>\n",
       "    <tr>\n",
       "      <th>2019</th>\n",
       "      <td>0.097701</td>\n",
       "      <td>0.262525</td>\n",
       "      <td>0.383998</td>\n",
       "      <td>0.177943</td>\n",
       "      <td>0.077833</td>\n",
       "    </tr>\n",
       "    <tr>\n",
       "      <th>2020</th>\n",
       "      <td>0.087580</td>\n",
       "      <td>0.256509</td>\n",
       "      <td>0.389631</td>\n",
       "      <td>0.183827</td>\n",
       "      <td>0.082453</td>\n",
       "    </tr>\n",
       "    <tr>\n",
       "      <th>2021</th>\n",
       "      <td>0.081836</td>\n",
       "      <td>0.256831</td>\n",
       "      <td>0.384399</td>\n",
       "      <td>0.193931</td>\n",
       "      <td>0.083002</td>\n",
       "    </tr>\n",
       "    <tr>\n",
       "      <th>2022</th>\n",
       "      <td>0.075881</td>\n",
       "      <td>0.236700</td>\n",
       "      <td>0.374382</td>\n",
       "      <td>0.211471</td>\n",
       "      <td>0.101565</td>\n",
       "    </tr>\n",
       "  </tbody>\n",
       "</table>\n",
       "</div>"
      ],
      "text/plain": [
       "edu              1         2         3         4         5\n",
       "SURVYEAR                                                  \n",
       "2013      0.120462  0.288373  0.372295  0.154795  0.064075\n",
       "2014      0.118577  0.289459  0.371570  0.155208  0.065185\n",
       "2015      0.112379  0.277708  0.380284  0.163051  0.066579\n",
       "2016      0.110637  0.274003  0.379812  0.164896  0.070652\n",
       "2017      0.103271  0.275455  0.382741  0.168699  0.069833\n",
       "2018      0.102338  0.269140  0.383913  0.170180  0.074429\n",
       "2019      0.097701  0.262525  0.383998  0.177943  0.077833\n",
       "2020      0.087580  0.256509  0.389631  0.183827  0.082453\n",
       "2021      0.081836  0.256831  0.384399  0.193931  0.083002\n",
       "2022      0.075881  0.236700  0.374382  0.211471  0.101565"
      ]
     },
     "execution_count": 102,
     "metadata": {},
     "output_type": "execute_result"
    }
   ],
   "source": [
    "pd.crosstab(master['SURVYEAR'], master['edu'], normalize='index')"
   ]
  },
  {
   "cell_type": "markdown",
   "metadata": {},
   "source": [
    "dasda"
   ]
  },
  {
   "cell_type": "code",
   "execution_count": 104,
   "metadata": {},
   "outputs": [
    {
     "name": "stdout",
     "output_type": "stream",
     "text": [
      "hello\n"
     ]
    }
   ],
   "source": [
    "print('hello')"
   ]
  }
 ],
 "metadata": {
  "kernelspec": {
   "display_name": "Python 3.9.5 64-bit",
   "language": "python",
   "name": "python3"
  },
  "language_info": {
   "codemirror_mode": {
    "name": "ipython",
    "version": 3
   },
   "file_extension": ".py",
   "mimetype": "text/x-python",
   "name": "python",
   "nbconvert_exporter": "python",
   "pygments_lexer": "ipython3",
   "version": "3.9.5"
  },
  "orig_nbformat": 4,
  "vscode": {
   "interpreter": {
    "hash": "aee8b7b246df8f9039afb4144a1f6fd8d2ca17a180786b69acc140d282b71a49"
   }
  }
 },
 "nbformat": 4,
 "nbformat_minor": 2
}
